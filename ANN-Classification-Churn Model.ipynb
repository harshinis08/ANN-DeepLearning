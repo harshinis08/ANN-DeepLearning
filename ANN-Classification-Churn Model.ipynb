{
 "cells": [
  {
   "cell_type": "markdown",
   "metadata": {},
   "source": [
    "# Importing the libraries"
   ]
  },
  {
   "cell_type": "code",
   "execution_count": 16,
   "metadata": {},
   "outputs": [],
   "source": [
    "import pandas as pd\n",
    "import numpy as np\n",
    "import matplotlib.pyplot as plt\n",
    "import seaborn as sns"
   ]
  },
  {
   "cell_type": "markdown",
   "metadata": {},
   "source": [
    "# Import the dataset"
   ]
  },
  {
   "cell_type": "code",
   "execution_count": 17,
   "metadata": {},
   "outputs": [],
   "source": [
    "churn_df = pd.read_csv('Churn_Modelling.csv')"
   ]
  },
  {
   "cell_type": "code",
   "execution_count": 26,
   "metadata": {},
   "outputs": [],
   "source": [
    "X = churn_df.iloc[:,3:13].values\n",
    "y = churn_df.iloc[:,13].values"
   ]
  },
  {
   "cell_type": "code",
   "execution_count": 27,
   "metadata": {},
   "outputs": [
    {
     "name": "stdout",
     "output_type": "stream",
     "text": [
      "[[619 'France' 'Female' ... 1 1 101348.88]\n",
      " [608 'Spain' 'Female' ... 0 1 112542.58]\n",
      " [502 'France' 'Female' ... 1 0 113931.57]\n",
      " ...\n",
      " [709 'France' 'Female' ... 0 1 42085.58]\n",
      " [772 'Germany' 'Male' ... 1 0 92888.52]\n",
      " [792 'France' 'Female' ... 1 0 38190.78]]\n"
     ]
    },
    {
     "data": {
      "text/plain": [
       "array([1, 0, 1, ..., 1, 1, 0])"
      ]
     },
     "execution_count": 27,
     "metadata": {},
     "output_type": "execute_result"
    }
   ],
   "source": [
    "print(X)\n",
    "y"
   ]
  },
  {
   "cell_type": "markdown",
   "metadata": {},
   "source": [
    "# Encoding categorical data "
   ]
  },
  {
   "cell_type": "code",
   "execution_count": 28,
   "metadata": {},
   "outputs": [
    {
     "data": {
      "text/plain": [
       "array([[619, 0, 'Female', ..., 1, 1, 101348.88],\n",
       "       [608, 2, 'Female', ..., 0, 1, 112542.58],\n",
       "       [502, 0, 'Female', ..., 1, 0, 113931.57],\n",
       "       ...,\n",
       "       [709, 0, 'Female', ..., 0, 1, 42085.58],\n",
       "       [772, 1, 'Male', ..., 1, 0, 92888.52],\n",
       "       [792, 0, 'Female', ..., 1, 0, 38190.78]], dtype=object)"
      ]
     },
     "execution_count": 28,
     "metadata": {},
     "output_type": "execute_result"
    }
   ],
   "source": [
    "from sklearn.preprocessing import LabelEncoder, OneHotEncoder\n",
    "le_X1 = LabelEncoder()\n",
    "X[:,1] = le_X1.fit_transform(X[:,1])\n",
    "X"
   ]
  },
  {
   "cell_type": "code",
   "execution_count": 29,
   "metadata": {},
   "outputs": [
    {
     "data": {
      "text/plain": [
       "array([[619, 0, 0, ..., 1, 1, 101348.88],\n",
       "       [608, 2, 0, ..., 0, 1, 112542.58],\n",
       "       [502, 0, 0, ..., 1, 0, 113931.57],\n",
       "       ...,\n",
       "       [709, 0, 0, ..., 0, 1, 42085.58],\n",
       "       [772, 1, 1, ..., 1, 0, 92888.52],\n",
       "       [792, 0, 0, ..., 1, 0, 38190.78]], dtype=object)"
      ]
     },
     "execution_count": 29,
     "metadata": {},
     "output_type": "execute_result"
    }
   ],
   "source": [
    "le_X2 = LabelEncoder()\n",
    "X[:,2] = le_X2.fit_transform(X[:,2])\n",
    "X"
   ]
  },
  {
   "cell_type": "code",
   "execution_count": 30,
   "metadata": {},
   "outputs": [
    {
     "name": "stderr",
     "output_type": "stream",
     "text": [
      "/Applications/anaconda3/lib/python3.7/site-packages/sklearn/preprocessing/_encoders.py:415: FutureWarning: The handling of integer data will change in version 0.22. Currently, the categories are determined based on the range [0, max(values)], while in the future they will be determined based on the unique values.\n",
      "If you want the future behaviour and silence this warning, you can specify \"categories='auto'\".\n",
      "In case you used a LabelEncoder before this OneHotEncoder to convert the categories to integers, then you can now use the OneHotEncoder directly.\n",
      "  warnings.warn(msg, FutureWarning)\n",
      "/Applications/anaconda3/lib/python3.7/site-packages/sklearn/preprocessing/_encoders.py:451: DeprecationWarning: The 'categorical_features' keyword is deprecated in version 0.20 and will be removed in 0.22. You can use the ColumnTransformer instead.\n",
      "  \"use the ColumnTransformer instead.\", DeprecationWarning)\n"
     ]
    }
   ],
   "source": [
    "# creating dummy varibles for country column\n",
    "OHE = OneHotEncoder(categorical_features = [1])\n",
    "X = OHE.fit_transform(X).toarray() "
   ]
  },
  {
   "cell_type": "code",
   "execution_count": 31,
   "metadata": {},
   "outputs": [
    {
     "name": "stdout",
     "output_type": "stream",
     "text": [
      "[[1.0000000e+00 0.0000000e+00 0.0000000e+00 ... 1.0000000e+00\n",
      "  1.0000000e+00 1.0134888e+05]\n",
      " [0.0000000e+00 0.0000000e+00 1.0000000e+00 ... 0.0000000e+00\n",
      "  1.0000000e+00 1.1254258e+05]\n",
      " [1.0000000e+00 0.0000000e+00 0.0000000e+00 ... 1.0000000e+00\n",
      "  0.0000000e+00 1.1393157e+05]\n",
      " ...\n",
      " [1.0000000e+00 0.0000000e+00 0.0000000e+00 ... 0.0000000e+00\n",
      "  1.0000000e+00 4.2085580e+04]\n",
      " [0.0000000e+00 1.0000000e+00 0.0000000e+00 ... 1.0000000e+00\n",
      "  0.0000000e+00 9.2888520e+04]\n",
      " [1.0000000e+00 0.0000000e+00 0.0000000e+00 ... 1.0000000e+00\n",
      "  0.0000000e+00 3.8190780e+04]]\n"
     ]
    }
   ],
   "source": [
    "print(X)"
   ]
  },
  {
   "cell_type": "markdown",
   "metadata": {},
   "source": [
    "# Splitting the dataset into training and testing"
   ]
  },
  {
   "cell_type": "code",
   "execution_count": 32,
   "metadata": {},
   "outputs": [],
   "source": [
    "from sklearn.model_selection import train_test_split\n",
    "X_train, X_test, y_train, y_test = train_test_split(X, y, test_size=0.2, random_state=0) "
   ]
  },
  {
   "cell_type": "markdown",
   "metadata": {},
   "source": [
    "# Feature scaling"
   ]
  },
  {
   "cell_type": "code",
   "execution_count": 35,
   "metadata": {},
   "outputs": [],
   "source": [
    "from sklearn.preprocessing import StandardScaler\n",
    "sc = StandardScaler()\n",
    "X_train = sc.fit_transform(X_train)\n",
    "X_test = sc.transform(X_test)"
   ]
  },
  {
   "cell_type": "code",
   "execution_count": 36,
   "metadata": {},
   "outputs": [
    {
     "data": {
      "text/plain": [
       "array([[1.0000000e+00, 0.0000000e+00, 0.0000000e+00, ..., 1.0000000e+00,\n",
       "        1.0000000e+00, 1.0134888e+05],\n",
       "       [0.0000000e+00, 0.0000000e+00, 1.0000000e+00, ..., 0.0000000e+00,\n",
       "        1.0000000e+00, 1.1254258e+05],\n",
       "       [1.0000000e+00, 0.0000000e+00, 0.0000000e+00, ..., 1.0000000e+00,\n",
       "        0.0000000e+00, 1.1393157e+05],\n",
       "       ...,\n",
       "       [1.0000000e+00, 0.0000000e+00, 0.0000000e+00, ..., 0.0000000e+00,\n",
       "        1.0000000e+00, 4.2085580e+04],\n",
       "       [0.0000000e+00, 1.0000000e+00, 0.0000000e+00, ..., 1.0000000e+00,\n",
       "        0.0000000e+00, 9.2888520e+04],\n",
       "       [1.0000000e+00, 0.0000000e+00, 0.0000000e+00, ..., 1.0000000e+00,\n",
       "        0.0000000e+00, 3.8190780e+04]])"
      ]
     },
     "execution_count": 36,
     "metadata": {},
     "output_type": "execute_result"
    }
   ],
   "source": [
    "X"
   ]
  },
  {
   "cell_type": "markdown",
   "metadata": {},
   "source": [
    "# Part - 2: Building the ANN"
   ]
  },
  {
   "cell_type": "code",
   "execution_count": 37,
   "metadata": {},
   "outputs": [
    {
     "name": "stderr",
     "output_type": "stream",
     "text": [
      "Using TensorFlow backend.\n"
     ]
    }
   ],
   "source": [
    "import keras"
   ]
  },
  {
   "cell_type": "code",
   "execution_count": 38,
   "metadata": {},
   "outputs": [],
   "source": [
    "from keras.models import Sequential\n",
    "from keras.layers import Dense"
   ]
  },
  {
   "cell_type": "code",
   "execution_count": 79,
   "metadata": {},
   "outputs": [
    {
     "name": "stderr",
     "output_type": "stream",
     "text": [
      "/Applications/anaconda3/lib/python3.7/site-packages/ipykernel_launcher.py:5: UserWarning: Update your `Dense` call to the Keras 2 API: `Dense(activation=\"relu\", input_dim=12, units=6, kernel_initializer=\"uniform\")`\n",
      "  \"\"\"\n"
     ]
    }
   ],
   "source": [
    "# initializing the ANN\n",
    "classifier = Sequential() \n",
    "\n",
    "# Adding the input layer and the first hidden layer\n",
    "classifier.add(Dense(output_dim = 6, init = 'uniform', activation = 'relu', input_dim = 12))"
   ]
  },
  {
   "cell_type": "code",
   "execution_count": 80,
   "metadata": {},
   "outputs": [
    {
     "name": "stderr",
     "output_type": "stream",
     "text": [
      "/Applications/anaconda3/lib/python3.7/site-packages/ipykernel_launcher.py:2: UserWarning: Update your `Dense` call to the Keras 2 API: `Dense(activation=\"relu\", units=6, kernel_initializer=\"uniform\")`\n",
      "  \n"
     ]
    }
   ],
   "source": [
    "# Adding the second hidden layer\n",
    "classifier.add(Dense(output_dim = 6, init = 'uniform', activation = 'relu'))"
   ]
  },
  {
   "cell_type": "code",
   "execution_count": 81,
   "metadata": {},
   "outputs": [
    {
     "name": "stderr",
     "output_type": "stream",
     "text": [
      "/Applications/anaconda3/lib/python3.7/site-packages/ipykernel_launcher.py:2: UserWarning: Update your `Dense` call to the Keras 2 API: `Dense(activation=\"sigmoid\", units=1, kernel_initializer=\"uniform\")`\n",
      "  \n"
     ]
    }
   ],
   "source": [
    "# Adding the output layer\n",
    "classifier.add(Dense(output_dim = 1, init = 'uniform', activation = 'sigmoid')) "
   ]
  },
  {
   "cell_type": "code",
   "execution_count": 82,
   "metadata": {},
   "outputs": [],
   "source": [
    "# Compiling the ANN\n",
    "classifier.compile(optimizer = 'adam', loss = 'binary_crossentropy', metrics = ['accuracy'])"
   ]
  },
  {
   "cell_type": "code",
   "execution_count": 83,
   "metadata": {},
   "outputs": [
    {
     "name": "stderr",
     "output_type": "stream",
     "text": [
      "/Applications/anaconda3/lib/python3.7/site-packages/ipykernel_launcher.py:2: UserWarning: The `nb_epoch` argument in `fit` has been renamed `epochs`.\n",
      "  \n"
     ]
    },
    {
     "name": "stdout",
     "output_type": "stream",
     "text": [
      "Epoch 1/100\n",
      "8000/8000 [==============================] - 2s 208us/step - loss: 0.4818 - accuracy: 0.7960\n",
      "Epoch 2/100\n",
      "8000/8000 [==============================] - 1s 145us/step - loss: 0.4310 - accuracy: 0.7960\n",
      "Epoch 3/100\n",
      "8000/8000 [==============================] - 1s 177us/step - loss: 0.4258 - accuracy: 0.7960\n",
      "Epoch 4/100\n",
      "8000/8000 [==============================] - 1s 183us/step - loss: 0.4221 - accuracy: 0.8095\n",
      "Epoch 5/100\n",
      "8000/8000 [==============================] - 2s 195us/step - loss: 0.4189 - accuracy: 0.82150s - loss: 0.4\n",
      "Epoch 6/100\n",
      "8000/8000 [==============================] - 1s 172us/step - loss: 0.4166 - accuracy: 0.8265\n",
      "Epoch 7/100\n",
      "8000/8000 [==============================] - 1s 144us/step - loss: 0.4153 - accuracy: 0.8280\n",
      "Epoch 8/100\n",
      "8000/8000 [==============================] - 1s 163us/step - loss: 0.4136 - accuracy: 0.8294\n",
      "Epoch 9/100\n",
      "8000/8000 [==============================] - 1s 177us/step - loss: 0.4118 - accuracy: 0.8328\n",
      "Epoch 10/100\n",
      "8000/8000 [==============================] - 1s 172us/step - loss: 0.4112 - accuracy: 0.8341\n",
      "Epoch 11/100\n",
      "8000/8000 [==============================] - 1s 170us/step - loss: 0.4099 - accuracy: 0.8336\n",
      "Epoch 12/100\n",
      "8000/8000 [==============================] - 1s 169us/step - loss: 0.4085 - accuracy: 0.8344\n",
      "Epoch 13/100\n",
      "8000/8000 [==============================] - 1s 179us/step - loss: 0.4071 - accuracy: 0.8338\n",
      "Epoch 14/100\n",
      "8000/8000 [==============================] - 1s 172us/step - loss: 0.4074 - accuracy: 0.8345\n",
      "Epoch 15/100\n",
      "8000/8000 [==============================] - 1s 129us/step - loss: 0.4063 - accuracy: 0.8329\n",
      "Epoch 16/100\n",
      "8000/8000 [==============================] - 1s 163us/step - loss: 0.4058 - accuracy: 0.8332\n",
      "Epoch 17/100\n",
      "8000/8000 [==============================] - 1s 146us/step - loss: 0.4055 - accuracy: 0.8346\n",
      "Epoch 18/100\n",
      "8000/8000 [==============================] - 1s 132us/step - loss: 0.4049 - accuracy: 0.8346\n",
      "Epoch 19/100\n",
      "8000/8000 [==============================] - 1s 134us/step - loss: 0.4044 - accuracy: 0.8341\n",
      "Epoch 20/100\n",
      "8000/8000 [==============================] - 1s 128us/step - loss: 0.4042 - accuracy: 0.8354\n",
      "Epoch 21/100\n",
      "8000/8000 [==============================] - 1s 134us/step - loss: 0.4040 - accuracy: 0.8363\n",
      "Epoch 22/100\n",
      "8000/8000 [==============================] - 1s 134us/step - loss: 0.4040 - accuracy: 0.8360\n",
      "Epoch 23/100\n",
      "8000/8000 [==============================] - 1s 133us/step - loss: 0.4032 - accuracy: 0.8336\n",
      "Epoch 24/100\n",
      "8000/8000 [==============================] - 1s 136us/step - loss: 0.4031 - accuracy: 0.8345\n",
      "Epoch 25/100\n",
      "8000/8000 [==============================] - 1s 130us/step - loss: 0.4028 - accuracy: 0.8330\n",
      "Epoch 26/100\n",
      "8000/8000 [==============================] - 1s 135us/step - loss: 0.4029 - accuracy: 0.8342\n",
      "Epoch 27/100\n",
      "8000/8000 [==============================] - 1s 131us/step - loss: 0.4025 - accuracy: 0.8359\n",
      "Epoch 28/100\n",
      "8000/8000 [==============================] - 1s 131us/step - loss: 0.4029 - accuracy: 0.8345\n",
      "Epoch 29/100\n",
      "8000/8000 [==============================] - 1s 133us/step - loss: 0.4023 - accuracy: 0.8355\n",
      "Epoch 30/100\n",
      "8000/8000 [==============================] - 1s 145us/step - loss: 0.4021 - accuracy: 0.8341\n",
      "Epoch 31/100\n",
      "8000/8000 [==============================] - 1s 132us/step - loss: 0.4019 - accuracy: 0.8349\n",
      "Epoch 32/100\n",
      "8000/8000 [==============================] - 1s 134us/step - loss: 0.4023 - accuracy: 0.8339\n",
      "Epoch 33/100\n",
      "8000/8000 [==============================] - 1s 139us/step - loss: 0.4024 - accuracy: 0.8354\n",
      "Epoch 34/100\n",
      "8000/8000 [==============================] - 1s 140us/step - loss: 0.4019 - accuracy: 0.8361\n",
      "Epoch 35/100\n",
      "8000/8000 [==============================] - 1s 141us/step - loss: 0.4020 - accuracy: 0.8349\n",
      "Epoch 36/100\n",
      "8000/8000 [==============================] - 1s 133us/step - loss: 0.4012 - accuracy: 0.8341\n",
      "Epoch 37/100\n",
      "8000/8000 [==============================] - 1s 135us/step - loss: 0.4017 - accuracy: 0.8365\n",
      "Epoch 38/100\n",
      "8000/8000 [==============================] - 1s 140us/step - loss: 0.4012 - accuracy: 0.8351\n",
      "Epoch 39/100\n",
      "8000/8000 [==============================] - 1s 133us/step - loss: 0.4016 - accuracy: 0.8357\n",
      "Epoch 40/100\n",
      "8000/8000 [==============================] - 1s 134us/step - loss: 0.4016 - accuracy: 0.8351\n",
      "Epoch 41/100\n",
      "8000/8000 [==============================] - 1s 156us/step - loss: 0.4012 - accuracy: 0.8363\n",
      "Epoch 42/100\n",
      "8000/8000 [==============================] - 1s 160us/step - loss: 0.4012 - accuracy: 0.8336\n",
      "Epoch 43/100\n",
      "8000/8000 [==============================] - 1s 153us/step - loss: 0.4011 - accuracy: 0.8363\n",
      "Epoch 44/100\n",
      "8000/8000 [==============================] - 1s 149us/step - loss: 0.4008 - accuracy: 0.8369\n",
      "Epoch 45/100\n",
      "8000/8000 [==============================] - 1s 141us/step - loss: 0.4012 - accuracy: 0.8360\n",
      "Epoch 46/100\n",
      "8000/8000 [==============================] - 1s 143us/step - loss: 0.4011 - accuracy: 0.8339\n",
      "Epoch 47/100\n",
      "8000/8000 [==============================] - 1s 139us/step - loss: 0.4015 - accuracy: 0.8345\n",
      "Epoch 48/100\n",
      "8000/8000 [==============================] - 1s 151us/step - loss: 0.4011 - accuracy: 0.8351\n",
      "Epoch 49/100\n",
      "8000/8000 [==============================] - 1s 178us/step - loss: 0.4007 - accuracy: 0.8353\n",
      "Epoch 50/100\n",
      "8000/8000 [==============================] - 2s 190us/step - loss: 0.4007 - accuracy: 0.8355\n",
      "Epoch 51/100\n",
      "8000/8000 [==============================] - 1s 183us/step - loss: 0.4010 - accuracy: 0.8355\n",
      "Epoch 52/100\n",
      "8000/8000 [==============================] - 1s 157us/step - loss: 0.4005 - accuracy: 0.8364\n",
      "Epoch 53/100\n",
      "8000/8000 [==============================] - 1s 138us/step - loss: 0.4008 - accuracy: 0.8355\n",
      "Epoch 54/100\n",
      "8000/8000 [==============================] - 1s 135us/step - loss: 0.4009 - accuracy: 0.8347\n",
      "Epoch 55/100\n",
      "8000/8000 [==============================] - 1s 144us/step - loss: 0.4010 - accuracy: 0.8354\n",
      "Epoch 56/100\n",
      "8000/8000 [==============================] - 1s 139us/step - loss: 0.4011 - accuracy: 0.8353\n",
      "Epoch 57/100\n",
      "8000/8000 [==============================] - 1s 140us/step - loss: 0.4007 - accuracy: 0.8353\n",
      "Epoch 58/100\n",
      "8000/8000 [==============================] - 1s 139us/step - loss: 0.4011 - accuracy: 0.8361\n",
      "Epoch 59/100\n",
      "8000/8000 [==============================] - 1s 127us/step - loss: 0.4007 - accuracy: 0.8345\n",
      "Epoch 60/100\n",
      "8000/8000 [==============================] - 1s 129us/step - loss: 0.4004 - accuracy: 0.8360\n",
      "Epoch 61/100\n",
      "8000/8000 [==============================] - 1s 138us/step - loss: 0.4005 - accuracy: 0.8344\n",
      "Epoch 62/100\n",
      "8000/8000 [==============================] - 1s 140us/step - loss: 0.4003 - accuracy: 0.8360\n",
      "Epoch 63/100\n",
      "8000/8000 [==============================] - 1s 133us/step - loss: 0.4005 - accuracy: 0.8366\n",
      "Epoch 64/100\n",
      "8000/8000 [==============================] - 1s 141us/step - loss: 0.4006 - accuracy: 0.8338\n",
      "Epoch 65/100\n",
      "8000/8000 [==============================] - 1s 142us/step - loss: 0.4003 - accuracy: 0.8354\n",
      "Epoch 66/100\n",
      "8000/8000 [==============================] - 1s 145us/step - loss: 0.4002 - accuracy: 0.8361\n",
      "Epoch 67/100\n",
      "8000/8000 [==============================] - 1s 146us/step - loss: 0.4003 - accuracy: 0.8359\n",
      "Epoch 68/100\n",
      "8000/8000 [==============================] - 1s 148us/step - loss: 0.4003 - accuracy: 0.8349\n",
      "Epoch 69/100\n",
      "8000/8000 [==============================] - 1s 140us/step - loss: 0.4006 - accuracy: 0.8360\n",
      "Epoch 70/100\n",
      "8000/8000 [==============================] - 2s 214us/step - loss: 0.3998 - accuracy: 0.8353\n",
      "Epoch 71/100\n",
      "8000/8000 [==============================] - 1s 165us/step - loss: 0.4002 - accuracy: 0.8369\n",
      "Epoch 72/100\n",
      "8000/8000 [==============================] - 1s 154us/step - loss: 0.4004 - accuracy: 0.8364\n",
      "Epoch 73/100\n",
      "8000/8000 [==============================] - 1s 170us/step - loss: 0.4001 - accuracy: 0.8367\n",
      "Epoch 74/100\n",
      "8000/8000 [==============================] - 2s 197us/step - loss: 0.4003 - accuracy: 0.8353\n",
      "Epoch 75/100\n",
      "8000/8000 [==============================] - 2s 201us/step - loss: 0.4001 - accuracy: 0.8371\n",
      "Epoch 76/100\n",
      "8000/8000 [==============================] - 1s 167us/step - loss: 0.3999 - accuracy: 0.8350\n",
      "Epoch 77/100\n",
      "8000/8000 [==============================] - 1s 164us/step - loss: 0.4002 - accuracy: 0.8356\n",
      "Epoch 78/100\n"
     ]
    },
    {
     "name": "stdout",
     "output_type": "stream",
     "text": [
      "8000/8000 [==============================] - 1s 165us/step - loss: 0.4004 - accuracy: 0.8353\n",
      "Epoch 79/100\n",
      "8000/8000 [==============================] - 1s 163us/step - loss: 0.3997 - accuracy: 0.8346\n",
      "Epoch 80/100\n",
      "8000/8000 [==============================] - 1s 157us/step - loss: 0.4000 - accuracy: 0.8359\n",
      "Epoch 81/100\n",
      "8000/8000 [==============================] - 1s 161us/step - loss: 0.3997 - accuracy: 0.8350\n",
      "Epoch 82/100\n",
      "8000/8000 [==============================] - 1s 140us/step - loss: 0.4002 - accuracy: 0.8340\n",
      "Epoch 83/100\n",
      "8000/8000 [==============================] - 1s 141us/step - loss: 0.4000 - accuracy: 0.8344\n",
      "Epoch 84/100\n",
      "8000/8000 [==============================] - 1s 158us/step - loss: 0.3996 - accuracy: 0.8363\n",
      "Epoch 85/100\n",
      "8000/8000 [==============================] - 1s 156us/step - loss: 0.3999 - accuracy: 0.8345\n",
      "Epoch 86/100\n",
      "8000/8000 [==============================] - 1s 153us/step - loss: 0.3998 - accuracy: 0.8345\n",
      "Epoch 87/100\n",
      "8000/8000 [==============================] - 1s 148us/step - loss: 0.4002 - accuracy: 0.8366\n",
      "Epoch 88/100\n",
      "8000/8000 [==============================] - 1s 140us/step - loss: 0.4003 - accuracy: 0.8355\n",
      "Epoch 89/100\n",
      "8000/8000 [==============================] - 1s 154us/step - loss: 0.3999 - accuracy: 0.8356\n",
      "Epoch 90/100\n",
      "8000/8000 [==============================] - 1s 152us/step - loss: 0.3997 - accuracy: 0.8349\n",
      "Epoch 91/100\n",
      "8000/8000 [==============================] - 1s 141us/step - loss: 0.3999 - accuracy: 0.8350\n",
      "Epoch 92/100\n",
      "8000/8000 [==============================] - 1s 143us/step - loss: 0.4001 - accuracy: 0.8356\n",
      "Epoch 93/100\n",
      "8000/8000 [==============================] - 1s 162us/step - loss: 0.3995 - accuracy: 0.8364\n",
      "Epoch 94/100\n",
      "8000/8000 [==============================] - 1s 143us/step - loss: 0.4002 - accuracy: 0.8353\n",
      "Epoch 95/100\n",
      "8000/8000 [==============================] - 1s 157us/step - loss: 0.3997 - accuracy: 0.8363\n",
      "Epoch 96/100\n",
      "8000/8000 [==============================] - 1s 160us/step - loss: 0.4003 - accuracy: 0.8350\n",
      "Epoch 97/100\n",
      "8000/8000 [==============================] - 1s 160us/step - loss: 0.3997 - accuracy: 0.8345\n",
      "Epoch 98/100\n",
      "8000/8000 [==============================] - 1s 144us/step - loss: 0.3994 - accuracy: 0.8335\n",
      "Epoch 99/100\n",
      "8000/8000 [==============================] - 1s 150us/step - loss: 0.3999 - accuracy: 0.83590s - loss: 0.3985 - accuracy\n",
      "Epoch 100/100\n",
      "8000/8000 [==============================] - 1s 163us/step - loss: 0.3998 - accuracy: 0.8355\n"
     ]
    },
    {
     "data": {
      "text/plain": [
       "<keras.callbacks.callbacks.History at 0x1a17d02910>"
      ]
     },
     "execution_count": 83,
     "metadata": {},
     "output_type": "execute_result"
    }
   ],
   "source": [
    "# Fitting the ANN to the training set\n",
    "classifier.fit(X_train, y_train, batch_size = 10, nb_epoch = 100)"
   ]
  },
  {
   "cell_type": "markdown",
   "metadata": {},
   "source": [
    "# Part - 3 : Making predictions and evaluating the model"
   ]
  },
  {
   "cell_type": "code",
   "execution_count": 70,
   "metadata": {},
   "outputs": [],
   "source": [
    "y_pred = classifier.predict(X_test)\n"
   ]
  },
  {
   "cell_type": "code",
   "execution_count": 71,
   "metadata": {},
   "outputs": [
    {
     "data": {
      "text/plain": [
       "array([[0.],\n",
       "       [0.],\n",
       "       [0.],\n",
       "       ...,\n",
       "       [0.],\n",
       "       [0.],\n",
       "       [0.]], dtype=float32)"
      ]
     },
     "execution_count": 71,
     "metadata": {},
     "output_type": "execute_result"
    }
   ],
   "source": [
    "y_pred"
   ]
  },
  {
   "cell_type": "code",
   "execution_count": 72,
   "metadata": {},
   "outputs": [],
   "source": [
    "# making the confusion matrix\n",
    "\n",
    "from sklearn.metrics import confusion_matrix\n",
    "cm = confusion_matrix(y_test, y_pred)"
   ]
  },
  {
   "cell_type": "code",
   "execution_count": 73,
   "metadata": {},
   "outputs": [
    {
     "data": {
      "text/plain": [
       "array([[1595,    0],\n",
       "       [ 405,    0]])"
      ]
     },
     "execution_count": 73,
     "metadata": {},
     "output_type": "execute_result"
    }
   ],
   "source": [
    "cm"
   ]
  },
  {
   "cell_type": "code",
   "execution_count": null,
   "metadata": {},
   "outputs": [],
   "source": []
  }
 ],
 "metadata": {
  "kernelspec": {
   "display_name": "Python 3",
   "language": "python",
   "name": "python3"
  },
  "language_info": {
   "codemirror_mode": {
    "name": "ipython",
    "version": 3
   },
   "file_extension": ".py",
   "mimetype": "text/x-python",
   "name": "python",
   "nbconvert_exporter": "python",
   "pygments_lexer": "ipython3",
   "version": "3.7.4"
  }
 },
 "nbformat": 4,
 "nbformat_minor": 2
}
